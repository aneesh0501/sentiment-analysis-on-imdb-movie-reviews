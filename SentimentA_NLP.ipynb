{
  "nbformat": 4,
  "nbformat_minor": 0,
  "metadata": {
    "colab": {
      "name": "SentimentA_NLP.ipynb",
      "provenance": [],
      "collapsed_sections": []
    },
    "kernelspec": {
      "name": "python3",
      "display_name": "Python 3"
    },
    "language_info": {
      "name": "python"
    }
  },
  "cells": [
    {
      "cell_type": "markdown",
      "source": [
        "# Downloading Important Libraries"
      ],
      "metadata": {
        "id": "uqOFHAhLuN7N"
      }
    },
    {
      "cell_type": "code",
      "execution_count": null,
      "metadata": {
        "id": "k2gd2qEAGkc0"
      },
      "outputs": [],
      "source": [
        "import nltk\n",
        "nltk.download('punkt')\n",
        "nltk.download('stopwords')\n",
        "nltk.download('state_union')\n",
        "nltk.download('averaged_perceptron_tagger')\n",
        "nltk.download('wordnet')\n",
        "nltk.download('movie_reviews')\n",
        "nltk.download('punkt')\n",
        "nltk.download('maxent_treebank_pos_tagger')"
      ]
    },
    {
      "cell_type": "code",
      "source": [
        "from nltk import word_tokenize\n",
        "from nltk.corpus import stopwords\n",
        "import string\n",
        "from nltk.stem import WordNetLemmatizer"
      ],
      "metadata": {
        "id": "6LHQ1o87H-tk"
      },
      "execution_count": null,
      "outputs": []
    },
    {
      "cell_type": "code",
      "source": [
        "import pandas as pd"
      ],
      "metadata": {
        "id": "7YjF4o3jGucL"
      },
      "execution_count": null,
      "outputs": []
    },
    {
      "cell_type": "markdown",
      "source": [
        "# Importing Dataset into a pandas dataframe"
      ],
      "metadata": {
        "id": "LyBMANvYuot-"
      }
    },
    {
      "cell_type": "code",
      "source": [
        "train_document = pd.read_csv(\"/content/movie.csv\")"
      ],
      "metadata": {
        "id": "2lw9mNgYHmFW"
      },
      "execution_count": null,
      "outputs": []
    },
    {
      "cell_type": "markdown",
      "source": [
        "# Creating a list of stop words"
      ],
      "metadata": {
        "id": "XLvK7aqtu_Hd"
      }
    },
    {
      "cell_type": "code",
      "source": [
        "import string\n",
        "stop_words=stopwords.words('english')\n",
        "punct=list(string.punctuation)\n",
        "stop_words+=punct"
      ],
      "metadata": {
        "id": "Ei2ncBNyJlWt"
      },
      "execution_count": null,
      "outputs": []
    },
    {
      "cell_type": "markdown",
      "source": [
        "#Making a list containing tuples with reviews and their corresponding sentiment "
      ],
      "metadata": {
        "id": "O2UQhI_uvLbB"
      }
    },
    {
      "cell_type": "code",
      "source": [
        "documents = [(train_document.iloc[i,0],train_document.iloc[i,1]) for i in range(train_document.shape[0])]\n",
        "documents[0]"
      ],
      "metadata": {
        "colab": {
          "base_uri": "https://localhost:8080/"
        },
        "id": "tND5ZaCQKR8M",
        "outputId": "0de72989-439f-4873-d71b-7ee67e99dab5"
      },
      "execution_count": null,
      "outputs": [
        {
          "output_type": "execute_result",
          "data": {
            "text/plain": [
              "('I grew up (b. 1965) watching and loving the Thunderbirds. All my mates at school watched. We played \"Thunderbirds\" before school, during lunch and after school. We all wanted to be Virgil or Scott. No one wanted to be Alan. Counting down from 5 became an art form. I took my children to see the movie hoping they would get a glimpse of what I loved as a child. How bitterly disappointing. The only high point was the snappy theme tune. Not that it could compare with the original score of the Thunderbirds. Thankfully early Saturday mornings one television channel still plays reruns of the series Gerry Anderson and his wife created. Jonatha Frakes should hand in his directors chair, his version was completely hopeless. A waste of film. Utter rubbish. A CGI remake may be acceptable but replacing marionettes with Homo sapiens subsp. sapiens was a huge error of judgment.',\n",
              " 0)"
            ]
          },
          "metadata": {},
          "execution_count": 8
        }
      ]
    },
    {
      "cell_type": "markdown",
      "source": [
        "# Converting each review into list of words "
      ],
      "metadata": {
        "id": "5x9IKM4kvluv"
      }
    },
    {
      "cell_type": "code",
      "source": [
        "doc = [(word_tokenize(word),category) for word,category in documents]"
      ],
      "metadata": {
        "id": "CPCoWqozNc1w"
      },
      "execution_count": null,
      "outputs": []
    },
    {
      "cell_type": "code",
      "source": [
        "doc[:5]"
      ],
      "metadata": {
        "id": "a8qDEKwrOiFW"
      },
      "execution_count": null,
      "outputs": []
    },
    {
      "cell_type": "code",
      "source": [
        "from nltk.corpus import wordnet\n",
        "def get_simple_pos(tag):\n",
        "    if tag.startswith('J'):\n",
        "        return wordnet.ADJ\n",
        "    elif tag.startswith('V'):\n",
        "        return wordnet.VERB\n",
        "    elif tag.startswith('N'):\n",
        "        return wordnet.NOUN\n",
        "    elif tag.startswith('R'):\n",
        "        return wordnet.ADV\n",
        "    else:\n",
        "        return wordnet.NOUN"
      ],
      "metadata": {
        "id": "vd66C8eEOoRq"
      },
      "execution_count": null,
      "outputs": []
    },
    {
      "cell_type": "markdown",
      "source": [
        "#Importing lemmatizer and cleaning list of words by lemmetizing and removing stop words"
      ],
      "metadata": {
        "id": "KoCCWqDXvyVI"
      }
    },
    {
      "cell_type": "code",
      "source": [
        "from nltk.stem import WordNetLemmatizer\n",
        "lemmatizer=WordNetLemmatizer()"
      ],
      "metadata": {
        "id": "iC0ms8EEPMhq"
      },
      "execution_count": null,
      "outputs": []
    },
    {
      "cell_type": "code",
      "source": [
        "from nltk import pos_tag\n",
        "def clean_review(words):\n",
        "    output_words=[]\n",
        "    for w in words:\n",
        "        if w.lower() not in stop_words:\n",
        "            pos=pos_tag([w])\n",
        "            clean_word=lemmatizer.lemmatize(w,pos=get_simple_pos(pos[0][1]))\n",
        "            output_words.append(clean_word.lower())\n",
        "    return output_words"
      ],
      "metadata": {
        "id": "x3fItFP7PVHD"
      },
      "execution_count": null,
      "outputs": []
    },
    {
      "cell_type": "code",
      "source": [
        "docum=[(clean_review(words),category) for words,category in doc]"
      ],
      "metadata": {
        "id": "yIMMNGs7P2pn"
      },
      "execution_count": null,
      "outputs": []
    },
    {
      "cell_type": "markdown",
      "source": [
        "#Splitting dataset for training and testing"
      ],
      "metadata": {
        "id": "40uggQ9TwE32"
      }
    },
    {
      "cell_type": "code",
      "source": [
        "import random\n",
        "random.shuffle(docum)"
      ],
      "metadata": {
        "id": "34UVOIcGQuic"
      },
      "execution_count": null,
      "outputs": []
    },
    {
      "cell_type": "code",
      "source": [
        "n=len(docum)"
      ],
      "metadata": {
        "id": "FH4LZ1NAaZoq"
      },
      "execution_count": null,
      "outputs": []
    },
    {
      "cell_type": "code",
      "source": [
        "n"
      ],
      "metadata": {
        "colab": {
          "base_uri": "https://localhost:8080/"
        },
        "id": "Svvf60rmu1dj",
        "outputId": "6f8d7858-4417-43da-8de2-adbfead9eb7f"
      },
      "execution_count": null,
      "outputs": [
        {
          "output_type": "execute_result",
          "data": {
            "text/plain": [
              "40000"
            ]
          },
          "metadata": {},
          "execution_count": 17
        }
      ]
    },
    {
      "cell_type": "code",
      "source": [
        "n = int(.75*n)"
      ],
      "metadata": {
        "id": "SpwK-DX_aZ8Z"
      },
      "execution_count": null,
      "outputs": []
    },
    {
      "cell_type": "code",
      "source": [
        "training_documents=docum[:n]\n",
        "testing_documents=docum[n:]"
      ],
      "metadata": {
        "id": "yjFJFEsvcN4g"
      },
      "execution_count": null,
      "outputs": []
    },
    {
      "cell_type": "markdown",
      "source": [
        "#Collecting unique words from all reviews in training dataset and picking 5000 most frequently occuring words "
      ],
      "metadata": {
        "id": "Bv37xCmKwUwU"
      }
    },
    {
      "cell_type": "code",
      "source": [
        "all_words= []\n",
        "for words in training_documents:\n",
        "  all_words+=words[0]  "
      ],
      "metadata": {
        "id": "tyTiHeymciG9"
      },
      "execution_count": null,
      "outputs": []
    },
    {
      "cell_type": "code",
      "source": [
        "len(all_words)"
      ],
      "metadata": {
        "colab": {
          "base_uri": "https://localhost:8080/"
        },
        "id": "w7IAK1W6vs0D",
        "outputId": "5d6d5722-2fa1-4504-de19-cdebfaf22517"
      },
      "execution_count": null,
      "outputs": [
        {
          "output_type": "execute_result",
          "data": {
            "text/plain": [
              "3915364"
            ]
          },
          "metadata": {},
          "execution_count": 21
        }
      ]
    },
    {
      "cell_type": "code",
      "source": [
        "freq=nltk.FreqDist(all_words)\n",
        "common=freq.most_common(5000)\n",
        "features=[i[0] for i in common]\n",
        "features[0:10]\n"
      ],
      "metadata": {
        "colab": {
          "base_uri": "https://localhost:8080/"
        },
        "id": "ZsvDeoLXdwqf",
        "outputId": "e0f1bcd4-0c54-4b09-d857-81e6c2a2e2b1"
      },
      "execution_count": null,
      "outputs": [
        {
          "output_type": "execute_result",
          "data": {
            "text/plain": [
              "['br', \"'s\", 'movie', 'film', \"''\", \"n't\", '``', 'one', 'like', 'make']"
            ]
          },
          "metadata": {},
          "execution_count": 22
        }
      ]
    },
    {
      "cell_type": "code",
      "source": [
        "len(freq)"
      ],
      "metadata": {
        "colab": {
          "base_uri": "https://localhost:8080/"
        },
        "id": "D3judlfmvMZj",
        "outputId": "192b86f9-cca0-4c47-fdd8-9fb219961507"
      },
      "execution_count": null,
      "outputs": [
        {
          "output_type": "execute_result",
          "data": {
            "text/plain": [
              "117739"
            ]
          },
          "metadata": {},
          "execution_count": 23
        }
      ]
    },
    {
      "cell_type": "markdown",
      "source": [
        "# Making a feature dictionary for each review"
      ],
      "metadata": {
        "id": "3yWwuaGVw6N2"
      }
    },
    {
      "cell_type": "code",
      "source": [
        "def get_feature_dict(words):\n",
        "  dict = {}\n",
        "  words_set = set(words)\n",
        "  for curr_feat in features:\n",
        "    dict[curr_feat] = curr_feat in words_set\n",
        "  return dict"
      ],
      "metadata": {
        "id": "ezg6bmRsM6Mg"
      },
      "execution_count": null,
      "outputs": []
    },
    {
      "cell_type": "code",
      "source": [
        "training_data = [(get_feature_dict(doc), category) for doc, category in training_documents]\n",
        "training_data[:5]"
      ],
      "metadata": {
        "id": "SmvdPOnzRPAO"
      },
      "execution_count": null,
      "outputs": []
    },
    {
      "cell_type": "code",
      "source": [
        "testing_data = [(get_feature_dict(doc), category) for doc, category in testing_documents]"
      ],
      "metadata": {
        "id": "pda5wm5xSLV-"
      },
      "execution_count": null,
      "outputs": []
    },
    {
      "cell_type": "markdown",
      "source": [
        "#Model Training and Testing"
      ],
      "metadata": {
        "id": "qqnaFG9JxHC9"
      }
    },
    {
      "cell_type": "code",
      "source": [
        "from nltk import NaiveBayesClassifier\n",
        "classifier = NaiveBayesClassifier.train(training_data)"
      ],
      "metadata": {
        "id": "pzfSrmLZSYO2"
      },
      "execution_count": null,
      "outputs": []
    },
    {
      "cell_type": "code",
      "source": [
        "nltk.classify.accuracy(classifier, testing_data)"
      ],
      "metadata": {
        "colab": {
          "base_uri": "https://localhost:8080/"
        },
        "id": "j_EJ1p6vTDzM",
        "outputId": "9370d701-21e8-499c-c824-ae7d97ee84e6"
      },
      "execution_count": null,
      "outputs": [
        {
          "output_type": "execute_result",
          "data": {
            "text/plain": [
              "0.8519"
            ]
          },
          "metadata": {},
          "execution_count": 28
        }
      ]
    }
  ]
}